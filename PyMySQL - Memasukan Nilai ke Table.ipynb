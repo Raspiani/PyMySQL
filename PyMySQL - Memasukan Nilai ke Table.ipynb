{
 "cells": [
  {
   "cell_type": "markdown",
   "metadata": {},
   "source": [
    "## PyMySQL - Memasukan Nilai ke Table\n",
    "\n",
    "Berikut ini cara memasukan nilai ke table menggunakan modul pymysql\n",
    "\n",
    "Sumber : https://www.youtube.com/watch?v=t1Sd6-Chg1Y"
   ]
  },
  {
   "cell_type": "code",
   "execution_count": 3,
   "metadata": {},
   "outputs": [],
   "source": [
    "#memasukan modul yang digunakan\n",
    "import pymysql"
   ]
  },
  {
   "cell_type": "code",
   "execution_count": 5,
   "metadata": {},
   "outputs": [],
   "source": [
    "#membuka akses ke database\n",
    "db = pymysql.connect(\"localhost\", \"testuser\", \"test123\", \"TESTDB\")"
   ]
  },
  {
   "cell_type": "code",
   "execution_count": 6,
   "metadata": {},
   "outputs": [],
   "source": [
    "cursor = db.cursor()"
   ]
  },
  {
   "cell_type": "code",
   "execution_count": 7,
   "metadata": {},
   "outputs": [],
   "source": [
    "#memasukan nilai ke dalam tabel\n",
    "sql = \"\"\" INSERT INTO \n",
    "        EMPLOYEE(FIRST_NAME, LAST_NAME, AGE, SEX, INCOME)\n",
    "        VALUES('Mac', 'Mohan', 20, 'M', 2000)\n",
    "      \"\"\""
   ]
  },
  {
   "cell_type": "code",
   "execution_count": 8,
   "metadata": {},
   "outputs": [],
   "source": [
    "try:\n",
    "    cursor.execute(sql) # Execute the SQL command\n",
    "    db.commit() # Commit your changes in the database\n",
    "except:\n",
    "    db.rollback() # Rollback in case there is any error"
   ]
  },
  {
   "cell_type": "code",
   "execution_count": 9,
   "metadata": {},
   "outputs": [],
   "source": [
    "#menutup database\n",
    "db.close()"
   ]
  },
  {
   "cell_type": "markdown",
   "metadata": {},
   "source": [
    "                        ##Semoga Bermanfaat\n",
    "                        ##Raspiani_"
   ]
  }
 ],
 "metadata": {
  "kernelspec": {
   "display_name": "Python 3",
   "language": "python",
   "name": "python3"
  },
  "language_info": {
   "codemirror_mode": {
    "name": "ipython",
    "version": 3
   },
   "file_extension": ".py",
   "mimetype": "text/x-python",
   "name": "python",
   "nbconvert_exporter": "python",
   "pygments_lexer": "ipython3",
   "version": "3.6.5"
  }
 },
 "nbformat": 4,
 "nbformat_minor": 2
}
