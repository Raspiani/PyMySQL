{
 "cells": [
  {
   "cell_type": "markdown",
   "metadata": {},
   "source": [
    "## PyMySQL - Operasi Hapus\n",
    "\n",
    "Berikut ini cara melakukan operasi hasil dalam database dengan python.\n",
    "\n",
    "Sumber : https://www.tutorialspoint.com/python3/python_database_access.htm"
   ]
  },
  {
   "cell_type": "markdown",
   "metadata": {},
   "source": [
    "#### Berikut ini cara untuk menghapus nilai dalam tabel EMPLOYEE dimana AGE lebih dari 21"
   ]
  },
  {
   "cell_type": "code",
   "execution_count": 6,
   "metadata": {},
   "outputs": [],
   "source": [
    "#memasukan modul yang digunakan\n",
    "import pymysql"
   ]
  },
  {
   "cell_type": "code",
   "execution_count": 7,
   "metadata": {},
   "outputs": [],
   "source": [
    "#membuka koneksi ke database\n",
    "db = pymysql.connect('localhost', 'testuser', 'test123', 'TESTDB')"
   ]
  },
  {
   "cell_type": "code",
   "execution_count": 8,
   "metadata": {},
   "outputs": [],
   "source": [
    "#metode kursor\n",
    "cursor = db.cursor()"
   ]
  },
  {
   "cell_type": "code",
   "execution_count": 9,
   "metadata": {},
   "outputs": [],
   "source": [
    "#kueri sql\n",
    "sql = \"DELETE FROM EMPLOYEE WHERE AGE > '%d'\" % (21)"
   ]
  },
  {
   "cell_type": "code",
   "execution_count": 10,
   "metadata": {},
   "outputs": [],
   "source": [
    "#mengeksekusi kueri sql\n",
    "#hasilnya lihat di database xampp => mysql\n",
    "try:\n",
    "    cursor.execute(sql) #perintah mengeksekusi kueri sql\n",
    "    db.commit() #melakukan perubahan dalam database\n",
    "except:\n",
    "    db.rollback() #mengulangi perintah jika adanya error"
   ]
  },
  {
   "cell_type": "code",
   "execution_count": 11,
   "metadata": {},
   "outputs": [],
   "source": [
    "#putuskan koneksi dari server\n",
    "db.close()"
   ]
  },
  {
   "cell_type": "markdown",
   "metadata": {},
   "source": [
    "                    ##Semoga Bermanfaat\n",
    "                    ##Raspiani_"
   ]
  }
 ],
 "metadata": {
  "kernelspec": {
   "display_name": "Python 3",
   "language": "python",
   "name": "python3"
  },
  "language_info": {
   "codemirror_mode": {
    "name": "ipython",
    "version": 3
   },
   "file_extension": ".py",
   "mimetype": "text/x-python",
   "name": "python",
   "nbconvert_exporter": "python",
   "pygments_lexer": "ipython3",
   "version": "3.6.5"
  }
 },
 "nbformat": 4,
 "nbformat_minor": 2
}
