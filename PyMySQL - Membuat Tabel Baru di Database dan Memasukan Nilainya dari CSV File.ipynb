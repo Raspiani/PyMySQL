{
 "cells": [
  {
   "cell_type": "markdown",
   "metadata": {},
   "source": [
    "## PyMySQL - Membuat Tabel Baru di Database dan Memasukan Nilainya dari CSV File\n",
    "\n",
    "Berikut ini cara membuat database dan user menggunakan pymysql.\n",
    "\n",
    "Sumber : https://www.youtube.com/watch?v=WUVlllnJL60&list=PLyCwPGjh8kDyxSfwTkmTwsyK3m99ptxqF&index=6"
   ]
  },
  {
   "cell_type": "code",
   "execution_count": 1,
   "metadata": {},
   "outputs": [],
   "source": [
    "#memasukan modul yang digunakan\n",
    "import pymysql"
   ]
  },
  {
   "cell_type": "code",
   "execution_count": 2,
   "metadata": {},
   "outputs": [],
   "source": [
    "#membuka data\n",
    "f = open('students.csv', 'r')\n",
    "fString = f.read()"
   ]
  },
  {
   "cell_type": "code",
   "execution_count": 3,
   "metadata": {
    "scrolled": true
   },
   "outputs": [
    {
     "data": {
      "text/plain": [
       "'FIRST_NAME,LAST_NAME,AGE,GENDER,DEGREE\\nHarold,Stephens,38,M,AA\\nNicole,Robertson,22,F,AA\\nRussell,Crawford,26,F,BS\\nGeorge,Gonzales,28,F,AA\\nJean,Wheeler,34,M,MA\\nSharon,Cooper,37,M,BS\\nChristina,Powell,26,M,BS\\nKathy,Henry,39,M,AA\\nEugene,Banks,28,F,MA\\nEmily,Gonzalez,31,F,AA\\nBrenda,Freeman,29,M,MA\\nAlice,Marshall,36,F,BS\\nBenjamin,Graham,36,F,BS\\nDiane,Harris,30,M,MA\\nMartin,Lewis,19,F,BS'"
      ]
     },
     "execution_count": 3,
     "metadata": {},
     "output_type": "execute_result"
    }
   ],
   "source": [
    "#melihat isi fString, belum terlalu rapih\n",
    "fString"
   ]
  },
  {
   "cell_type": "code",
   "execution_count": 4,
   "metadata": {},
   "outputs": [
    {
     "name": "stdout",
     "output_type": "stream",
     "text": [
      "FIRST_NAME,LAST_NAME,AGE,GENDER,DEGREE\n",
      "Harold,Stephens,38,M,AA\n",
      "Nicole,Robertson,22,F,AA\n",
      "Russell,Crawford,26,F,BS\n",
      "George,Gonzales,28,F,AA\n",
      "Jean,Wheeler,34,M,MA\n",
      "Sharon,Cooper,37,M,BS\n",
      "Christina,Powell,26,M,BS\n",
      "Kathy,Henry,39,M,AA\n",
      "Eugene,Banks,28,F,MA\n",
      "Emily,Gonzalez,31,F,AA\n",
      "Brenda,Freeman,29,M,MA\n",
      "Alice,Marshall,36,F,BS\n",
      "Benjamin,Graham,36,F,BS\n",
      "Diane,Harris,30,M,MA\n",
      "Martin,Lewis,19,F,BS\n"
     ]
    }
   ],
   "source": [
    "#melihat isi fString, sudah rapih line by line\n",
    "print(fString)"
   ]
  },
  {
   "cell_type": "code",
   "execution_count": 5,
   "metadata": {},
   "outputs": [],
   "source": [
    "#konversi string to list\n",
    "fList = []\n",
    "\n",
    "for line in fString.split('\\n'):\n",
    "    fList.append(line.split(','))"
   ]
  },
  {
   "cell_type": "code",
   "execution_count": 6,
   "metadata": {},
   "outputs": [
    {
     "data": {
      "text/plain": [
       "[['FIRST_NAME', 'LAST_NAME', 'AGE', 'GENDER', 'DEGREE'],\n",
       " ['Harold', 'Stephens', '38', 'M', 'AA'],\n",
       " ['Nicole', 'Robertson', '22', 'F', 'AA'],\n",
       " ['Russell', 'Crawford', '26', 'F', 'BS'],\n",
       " ['George', 'Gonzales', '28', 'F', 'AA'],\n",
       " ['Jean', 'Wheeler', '34', 'M', 'MA'],\n",
       " ['Sharon', 'Cooper', '37', 'M', 'BS'],\n",
       " ['Christina', 'Powell', '26', 'M', 'BS'],\n",
       " ['Kathy', 'Henry', '39', 'M', 'AA'],\n",
       " ['Eugene', 'Banks', '28', 'F', 'MA'],\n",
       " ['Emily', 'Gonzalez', '31', 'F', 'AA'],\n",
       " ['Brenda', 'Freeman', '29', 'M', 'MA'],\n",
       " ['Alice', 'Marshall', '36', 'F', 'BS'],\n",
       " ['Benjamin', 'Graham', '36', 'F', 'BS'],\n",
       " ['Diane', 'Harris', '30', 'M', 'MA'],\n",
       " ['Martin', 'Lewis', '19', 'F', 'BS']]"
      ]
     },
     "execution_count": 6,
     "metadata": {},
     "output_type": "execute_result"
    }
   ],
   "source": [
    "#melihat isi fList\n",
    "fList"
   ]
  },
  {
   "cell_type": "code",
   "execution_count": 7,
   "metadata": {},
   "outputs": [],
   "source": [
    "#membuka koneksi ke database\n",
    "db = pymysql.connect('localhost', 'testuser', 'test123', 'TESTDB')"
   ]
  },
  {
   "cell_type": "code",
   "execution_count": 8,
   "metadata": {},
   "outputs": [],
   "source": [
    "#mempersiapkan sebuah objek kursor dengan metode cursor()\n",
    "cursor = db.cursor()"
   ]
  },
  {
   "cell_type": "code",
   "execution_count": 9,
   "metadata": {},
   "outputs": [
    {
     "name": "stderr",
     "output_type": "stream",
     "text": [
      "C:\\Users\\RASPIANI\\Anaconda3\\lib\\site-packages\\pymysql\\cursors.py:170: Warning: (1051, \"Unknown table 'testdb.students'\")\n",
      "  result = self._query(query)\n"
     ]
    },
    {
     "data": {
      "text/plain": [
       "0"
      ]
     },
     "execution_count": 9,
     "metadata": {},
     "output_type": "execute_result"
    }
   ],
   "source": [
    "#menghilangkan tabel students jika sudah tersedia di database dengan metode execute()\n",
    "cursor.execute('DROP TABLE IF EXISTS STUDENTS')"
   ]
  },
  {
   "cell_type": "code",
   "execution_count": 10,
   "metadata": {},
   "outputs": [],
   "source": [
    "#membuat nama kolom dari baris pertama dalam fList\n",
    "FIRST_NAME = fList[0][0];\n",
    "LAST_NAME = fList[0][1];\n",
    "AGE = fList[0][2];\n",
    "GENDER = fList[0][3];\n",
    "DEGREE = fList[0][4]"
   ]
  },
  {
   "cell_type": "code",
   "execution_count": 11,
   "metadata": {},
   "outputs": [],
   "source": [
    "#membuat tabel students // menempatkan sebuah koma setelah masing-masing kolom baru kecuali yang terakhir\n",
    "queryCreateStudentsTable = \"\"\" CREATE TABLE STUDENTS(\n",
    "                                {} varchar(255) not null, \n",
    "                                {} varchar(255) not null,\n",
    "                                {} int,\n",
    "                                {} char(1),\n",
    "                                {} char(2))\n",
    "                           \"\"\".format(FIRST_NAME, LAST_NAME, AGE, GENDER, DEGREE)"
   ]
  },
  {
   "cell_type": "code",
   "execution_count": 12,
   "metadata": {},
   "outputs": [
    {
     "data": {
      "text/plain": [
       "0"
      ]
     },
     "execution_count": 12,
     "metadata": {},
     "output_type": "execute_result"
    }
   ],
   "source": [
    "#mengeksekusi pembuatan tabel\n",
    "cursor.execute(queryCreateStudentsTable)"
   ]
  },
  {
   "cell_type": "code",
   "execution_count": 13,
   "metadata": {},
   "outputs": [
    {
     "name": "stdout",
     "output_type": "stream",
     "text": [
      "[['Harold', 'Stephens', '38', 'M', 'AA'], ['Nicole', 'Robertson', '22', 'F', 'AA'], ['Russell', 'Crawford', '26', 'F', 'BS'], ['George', 'Gonzales', '28', 'F', 'AA'], ['Jean', 'Wheeler', '34', 'M', 'MA'], ['Sharon', 'Cooper', '37', 'M', 'BS'], ['Christina', 'Powell', '26', 'M', 'BS'], ['Kathy', 'Henry', '39', 'M', 'AA'], ['Eugene', 'Banks', '28', 'F', 'MA'], ['Emily', 'Gonzalez', '31', 'F', 'AA'], ['Brenda', 'Freeman', '29', 'M', 'MA'], ['Alice', 'Marshall', '36', 'F', 'BS'], ['Benjamin', 'Graham', '36', 'F', 'BS'], ['Diane', 'Harris', '30', 'M', 'MA'], ['Martin', 'Lewis', '19', 'F', 'BS']]\n"
     ]
    }
   ],
   "source": [
    "#menghapus baris pertama dari fList dan menampilkannya\n",
    "del fList[0]\n",
    "print(fList)"
   ]
  },
  {
   "cell_type": "code",
   "execution_count": 16,
   "metadata": {},
   "outputs": [],
   "source": [
    "#mengenerate multiple nilai dari list untuk disimpan dalam sebuah query\n",
    "#membuat tuple\n",
    "rows = ''\n",
    "\n",
    "for i in range(len(fList) - 1):\n",
    "    rows += \"('{}','{}','{}','{}','{}')\".format(fList[i][0], fList[i][1], fList[i][2], fList[i][3], fList[i][4])\n",
    "    if i != len(fList) - 2:\n",
    "        rows += ','"
   ]
  },
  {
   "cell_type": "code",
   "execution_count": 17,
   "metadata": {},
   "outputs": [
    {
     "name": "stdout",
     "output_type": "stream",
     "text": [
      "('Harold','Stephens','38','M','AA'),('Nicole','Robertson','22','F','AA'),('Russell','Crawford','26','F','BS'),('George','Gonzales','28','F','AA'),('Jean','Wheeler','34','M','MA'),('Sharon','Cooper','37','M','BS'),('Christina','Powell','26','M','BS'),('Kathy','Henry','39','M','AA'),('Eugene','Banks','28','F','MA'),('Emily','Gonzalez','31','F','AA'),('Brenda','Freeman','29','M','MA'),('Alice','Marshall','36','F','BS'),('Benjamin','Graham','36','F','BS'),('Diane','Harris','30','M','MA')\n"
     ]
    }
   ],
   "source": [
    "#melihat isi dari rows\n",
    "print(rows)"
   ]
  },
  {
   "cell_type": "code",
   "execution_count": 18,
   "metadata": {},
   "outputs": [],
   "source": [
    "#mencetak rows // digunakan untuk meyakinkan nilai fList bukan sebuah koma\n",
    "queryInsert = \"INSERT INTO STUDENTS VALUES\" + rows"
   ]
  },
  {
   "cell_type": "code",
   "execution_count": 19,
   "metadata": {},
   "outputs": [
    {
     "data": {
      "text/plain": [
       "\"INSERT INTO STUDENTS VALUES('Harold','Stephens','38','M','AA'),('Nicole','Robertson','22','F','AA'),('Russell','Crawford','26','F','BS'),('George','Gonzales','28','F','AA'),('Jean','Wheeler','34','M','MA'),('Sharon','Cooper','37','M','BS'),('Christina','Powell','26','M','BS'),('Kathy','Henry','39','M','AA'),('Eugene','Banks','28','F','MA'),('Emily','Gonzalez','31','F','AA'),('Brenda','Freeman','29','M','MA'),('Alice','Marshall','36','F','BS'),('Benjamin','Graham','36','F','BS'),('Diane','Harris','30','M','MA')\""
      ]
     },
     "execution_count": 19,
     "metadata": {},
     "output_type": "execute_result"
    }
   ],
   "source": [
    "#melihat hasil dari queryInsert\n",
    "queryInsert"
   ]
  },
  {
   "cell_type": "code",
   "execution_count": 20,
   "metadata": {},
   "outputs": [],
   "source": [
    "# perintah mengeksekusi isi dari nilai yang di masukan ke database\n",
    "try:\n",
    "    cursor.execute(queryInsert)\n",
    "    db.commit()\n",
    "except:\n",
    "    db.rollback()"
   ]
  },
  {
   "cell_type": "code",
   "execution_count": 21,
   "metadata": {},
   "outputs": [],
   "source": [
    "#menutup database\n",
    "db.close()"
   ]
  },
  {
   "cell_type": "markdown",
   "metadata": {},
   "source": [
    "                    ##Semoga Bermanfaat\n",
    "                    ##Raspiani_"
   ]
  }
 ],
 "metadata": {
  "kernelspec": {
   "display_name": "Python 3",
   "language": "python",
   "name": "python3"
  },
  "language_info": {
   "codemirror_mode": {
    "name": "ipython",
    "version": 3
   },
   "file_extension": ".py",
   "mimetype": "text/x-python",
   "name": "python",
   "nbconvert_exporter": "python",
   "pygments_lexer": "ipython3",
   "version": "3.6.5"
  }
 },
 "nbformat": 4,
 "nbformat_minor": 2
}
