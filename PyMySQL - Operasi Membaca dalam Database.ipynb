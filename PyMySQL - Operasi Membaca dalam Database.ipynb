{
 "cells": [
  {
   "cell_type": "markdown",
   "metadata": {},
   "source": [
    "## PyMySQL - Operasi Membaca dalam Database\n",
    "\n",
    "Berikut ini cara melakukan operasi baca di dalam database menggunakan python.\n",
    "\n",
    "Sumber : https://www.tutorialspoint.com/python3/python_database_access.htm"
   ]
  },
  {
   "cell_type": "markdown",
   "metadata": {},
   "source": [
    "#### Berikut ini cara mengakses nilai dari tabel EMPLOYEE yang memiliki gaji lebih dari 1000"
   ]
  },
  {
   "cell_type": "code",
   "execution_count": 42,
   "metadata": {},
   "outputs": [],
   "source": [
    "#memasukan modul yang digunakan\n",
    "import pymysql"
   ]
  },
  {
   "cell_type": "code",
   "execution_count": 43,
   "metadata": {},
   "outputs": [],
   "source": [
    "#membuka koneksi ke database\n",
    "db = pymysql.connect(\"localhost\", \"testuser\", \"test123\", \"TESTDB\")"
   ]
  },
  {
   "cell_type": "code",
   "execution_count": 44,
   "metadata": {},
   "outputs": [],
   "source": [
    "#metode cursor()\n",
    "cursor = db.cursor()"
   ]
  },
  {
   "cell_type": "code",
   "execution_count": 45,
   "metadata": {},
   "outputs": [],
   "source": [
    "#kueri SQL untuk mengakses nilai dari tabel imployee yang memiliki gaji > 1000\n",
    "sql = \"SELECT * FROM EMPLOYEE WHERE INCOME > '%d'\" % (1000)"
   ]
  },
  {
   "cell_type": "code",
   "execution_count": 46,
   "metadata": {},
   "outputs": [
    {
     "name": "stdout",
     "output_type": "stream",
     "text": [
      "first_name = Mac, last_name = Mohan, age = 20, sex = M, income = 2000\n",
      "first_name = Tom, last_name = Jhonson, age = 21, sex = M, income = 4500\n"
     ]
    }
   ],
   "source": [
    "#mengeksekusi kueri sql\n",
    "#hasil income berbentuk bulat\n",
    "try: \n",
    "    cursor.execute(sql) #perintah mengeksekusi sql\n",
    "    hasil = cursor.fetchall() #mengambil semua baris dari list of the lists\n",
    "    \n",
    "    for baris in hasil:\n",
    "        first_name = baris[0]\n",
    "        last_name = baris[1]\n",
    "        age = baris[2]\n",
    "        sex = baris[3]\n",
    "        income = baris[4]\n",
    "        #menampilkan hasilnya\n",
    "        print(\"first_name = %s, last_name = %s, age = %d, sex = %c, income = %d\" % (first_name, last_name, age, sex, income))\n",
    "except:\n",
    "    print(\"Error: unable to fetch data\")"
   ]
  },
  {
   "cell_type": "code",
   "execution_count": 47,
   "metadata": {},
   "outputs": [
    {
     "name": "stdout",
     "output_type": "stream",
     "text": [
      "first_name = Mac, last_name = Mohan, age = 20, sex = M, income = 2000.0\n",
      "first_name = Tom, last_name = Jhonson, age = 21, sex = M, income = 4500.0\n"
     ]
    }
   ],
   "source": [
    "#mengeksekusi kueri sql\n",
    "#hasil income berbentuk float\n",
    "try: \n",
    "    cursor.execute(sql) #perintah mengeksekusi sql\n",
    "    hasil = cursor.fetchall() #mengambil semua baris dari list of the lists\n",
    "    \n",
    "    for baris in hasil:\n",
    "        first_name = baris[0]\n",
    "        last_name = baris[1]\n",
    "        age = baris[2]\n",
    "        sex = baris[3]\n",
    "        income = baris[4]\n",
    "        #menampilkan hasilnya\n",
    "        print(\"first_name = {}, last_name = {}, age = {}, sex = {}, income = {}\".format(first_name, last_name, age, sex, income))\n",
    "except:\n",
    "    print(\"Error: unable to fetch data\")"
   ]
  },
  {
   "cell_type": "code",
   "execution_count": 48,
   "metadata": {},
   "outputs": [],
   "source": [
    "#menutup database\n",
    "db.close()"
   ]
  },
  {
   "cell_type": "markdown",
   "metadata": {},
   "source": [
    "                                ##Semoga Bermanfaat\n",
    "                                ##Raspiani_"
   ]
  }
 ],
 "metadata": {
  "kernelspec": {
   "display_name": "Python 3",
   "language": "python",
   "name": "python3"
  },
  "language_info": {
   "codemirror_mode": {
    "name": "ipython",
    "version": 3
   },
   "file_extension": ".py",
   "mimetype": "text/x-python",
   "name": "python",
   "nbconvert_exporter": "python",
   "pygments_lexer": "ipython3",
   "version": "3.6.5"
  }
 },
 "nbformat": 4,
 "nbformat_minor": 2
}
