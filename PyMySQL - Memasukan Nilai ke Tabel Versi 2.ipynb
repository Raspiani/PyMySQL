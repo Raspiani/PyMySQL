{
 "cells": [
  {
   "cell_type": "markdown",
   "metadata": {},
   "source": [
    "## PyMySQL - Memasukan Nilai ke Tabel Versi 2\n",
    "\n",
    "Berikut ini cara memasukan nilai ke dalam tabel versi 2 menggunakan modul pymysql. \n",
    "Memasukan lanjutan nilai ke dalam tabel.\n",
    "\n",
    "Sumber : https://www.youtube.com/watch?v=BJ-O9APeC_Q"
   ]
  },
  {
   "cell_type": "code",
   "execution_count": 1,
   "metadata": {},
   "outputs": [],
   "source": [
    "#memasukan modul yang digunakan\n",
    "import pymysql"
   ]
  },
  {
   "cell_type": "code",
   "execution_count": 2,
   "metadata": {},
   "outputs": [],
   "source": [
    "#membuka koneksi ke database\n",
    "db = pymysql.connect(\"localhost\", \"testuser\", \"test123\", \"TESTDB\")"
   ]
  },
  {
   "cell_type": "code",
   "execution_count": 3,
   "metadata": {},
   "outputs": [],
   "source": [
    "cursor = db.cursor()"
   ]
  },
  {
   "cell_type": "code",
   "execution_count": 5,
   "metadata": {},
   "outputs": [],
   "source": [
    "#memasukan nilai baru ke dalam tabel\n",
    "#memasukan nilai lanjutan dari tabel yang ada\n",
    "sql = \" INSERT INTO EMPLOYEE (FIRST_NAME, \\\n",
    "        LAST_NAME, AGE, SEX, INCOME) \\\n",
    "        VALUES('%s', '%s', '%d', '%c', '%d')\" % \\\n",
    "        ('Tom', 'Jhonson', 21, 'M', 4500)"
   ]
  },
  {
   "cell_type": "code",
   "execution_count": 6,
   "metadata": {},
   "outputs": [],
   "source": [
    "try:\n",
    "    cursor.execute(sql)\n",
    "    db.commit()\n",
    "except:\n",
    "    db.rollback()"
   ]
  },
  {
   "cell_type": "code",
   "execution_count": 7,
   "metadata": {},
   "outputs": [],
   "source": [
    "#menghentikan koneksi ke database\n",
    "db.close()"
   ]
  },
  {
   "cell_type": "markdown",
   "metadata": {},
   "source": [
    "                    ##Semoga Bermanfaat\n",
    "                    ##Raspiani_"
   ]
  }
 ],
 "metadata": {
  "kernelspec": {
   "display_name": "Python 3",
   "language": "python",
   "name": "python3"
  },
  "language_info": {
   "codemirror_mode": {
    "name": "ipython",
    "version": 3
   },
   "file_extension": ".py",
   "mimetype": "text/x-python",
   "name": "python",
   "nbconvert_exporter": "python",
   "pygments_lexer": "ipython3",
   "version": "3.6.5"
  }
 },
 "nbformat": 4,
 "nbformat_minor": 2
}
